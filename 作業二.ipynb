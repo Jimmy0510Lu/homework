{
  "nbformat": 4,
  "nbformat_minor": 0,
  "metadata": {
    "colab": {
      "provenance": []
    },
    "kernelspec": {
      "name": "python3",
      "display_name": "Python 3"
    },
    "language_info": {
      "name": "python"
    }
  },
  "cells": [
    {
      "cell_type": "code",
      "execution_count": null,
      "metadata": {
        "id": "O9NqWFI5x2F9"
      },
      "outputs": [],
      "source": [
        "class Student:\n",
        "  def _init_(self,name,student_id,age,gender): #初始化\n",
        "    self.name = name\n",
        "    self.student_id = student_id\n",
        "    self.age = age\n",
        "    self.gender = gender\n",
        "    self.grade = 0\n",
        "\n",
        "  def set_grade(self,grade): #設定成績\n",
        "    self.grade = grade\n",
        "  def get_grade(self): #獲取成績\n",
        "    print(grade)\n",
        "  def display_student_info(self): #顯示資訊\n",
        "    print(\"姓名{}\",\"學號{}\",\"年齡{}\",\"性別{}\",\"成績{}\",sep=\"\\n\".format(self.name, self.student_id, self.age, self.gender, self.grade))"
      ]
    }
  ]
}