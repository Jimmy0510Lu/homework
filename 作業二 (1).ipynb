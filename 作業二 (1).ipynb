{
  "nbformat": 4,
  "nbformat_minor": 0,
  "metadata": {
    "colab": {
      "provenance": []
    },
    "kernelspec": {
      "name": "python3",
      "display_name": "Python 3"
    },
    "language_info": {
      "name": "python"
    }
  },
  "cells": [
    {
      "cell_type": "code",
      "execution_count": 24,
      "metadata": {
        "id": "O9NqWFI5x2F9"
      },
      "outputs": [],
      "source": [
        "class Student:\n",
        "  def __init__(self,name,student_id,age,gender): #初始化\n",
        "    self.name = name\n",
        "    self.student_id = student_id\n",
        "    self.age = age\n",
        "    self.gender = gender\n",
        "    self.grade = 0\n",
        "\n",
        "  def set_grade(self,grade): #設定成績\n",
        "    self.grade = grade\n",
        "  def get_grade(self): #獲取成績\n",
        "    print(self.grade)\n",
        "  def display_student_info(self): #顯示資訊\n",
        "    print(\"姓名 {}\\n學號 {}\\n年齡 {}\\n性別 {}\\n成績 {}\".format(self.name, self.student_id, self.age, self.gender, self.grade))"
      ]
    },
    {
      "cell_type": "code",
      "source": [
        "s = Student('小明',123,18,'male')\n",
        "s.set_grade(80)\n",
        "s.display_student_info()"
      ],
      "metadata": {
        "colab": {
          "base_uri": "https://localhost:8080/"
        },
        "id": "sFKKYYyGyXt2",
        "outputId": "327d3bd9-a699-412c-8dc2-5c189d6e0564"
      },
      "execution_count": 25,
      "outputs": [
        {
          "output_type": "stream",
          "name": "stdout",
          "text": [
            "姓名 小明\n",
            "學號 123\n",
            "年齡 18\n",
            "性別 male\n",
            "成績 80\n"
          ]
        }
      ]
    }
  ]
}